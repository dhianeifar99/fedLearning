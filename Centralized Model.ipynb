{
 "cells": [
  {
   "cell_type": "code",
   "execution_count": 14,
   "id": "e3ac4523",
   "metadata": {},
   "outputs": [],
   "source": [
    "import os\n",
    "import shutil\n",
    "import cv2\n",
    "import tensorflow as tf\n",
    "from tensorflow.keras import layers, models\n",
    "import random\n",
    "from tensorflow.keras.preprocessing.image import ImageDataGenerator\n",
    "import matplotlib.pyplot as plt\n",
    "import numpy as np\n",
    "import pickle"
   ]
  },
  {
   "cell_type": "code",
   "execution_count": 10,
   "id": "13330f84",
   "metadata": {},
   "outputs": [],
   "source": [
    "def create_model(name):\n",
    "    model = models.Sequential(name=name)\n",
    "    model.add(layers.InputLayer(input_shape=(50, 50, 3), name=f'{name}_input_layer'))\n",
    "    model.add(layers.Conv2D(16, (3, 3), activation='relu', name=f'{name}_Conv2D_1'))\n",
    "    model.add(layers.MaxPooling2D((2, 2), name=f'{name}_MaxPool2D_1'))\n",
    "    model.add(layers.Conv2D(32, (3, 3), activation='relu', name=f'{name}_Conv2D_2'))\n",
    "    model.add(layers.MaxPooling2D((2, 2), name=f'{name}_MaxPool2D_2'))\n",
    "    model.add(layers.Conv2D(64, (3, 3), activation='relu', name=f'{name}_Conv2D_3'))\n",
    "    model.add(layers.MaxPooling2D((2, 2), name=f'{name}_MaxPool2D_3'))\n",
    "    model.add(layers.Conv2D(128, (3, 3), activation='relu', name=f'{name}_Conv2D_4'))\n",
    "    model.add(layers.MaxPooling2D((2, 2), name=f'{name}_MaxPool2D_4'))\n",
    "    model.add(layers.Flatten(name=f'{name}_Flatten'))\n",
    "    model.add(layers.Dense(128, activation='relu', name=f'{name}_Dense_1'))\n",
    "    model.add(layers.Dense(512, activation='relu', name=f'{name}_Dense_2'))\n",
    "    model.add(layers.Dense(3, activation='sigmoid', name=f'{name}_Output'))\n",
    "    return model"
   ]
  },
  {
   "cell_type": "code",
   "execution_count": 11,
   "id": "358d77eb",
   "metadata": {},
   "outputs": [
    {
     "name": "stdout",
     "output_type": "stream",
     "text": [
      "Model: \"centralized_model\"\n",
      "_________________________________________________________________\n",
      " Layer (type)                Output Shape              Param #   \n",
      "=================================================================\n",
      " centralized_model_Conv2D_1   (None, 48, 48, 16)       448       \n",
      " (Conv2D)                                                        \n",
      "                                                                 \n",
      " centralized_model_MaxPool2D  (None, 24, 24, 16)       0         \n",
      " _1 (MaxPooling2D)                                               \n",
      "                                                                 \n",
      " centralized_model_Conv2D_2   (None, 22, 22, 32)       4640      \n",
      " (Conv2D)                                                        \n",
      "                                                                 \n",
      " centralized_model_MaxPool2D  (None, 11, 11, 32)       0         \n",
      " _2 (MaxPooling2D)                                               \n",
      "                                                                 \n",
      " centralized_model_Conv2D_3   (None, 9, 9, 64)         18496     \n",
      " (Conv2D)                                                        \n",
      "                                                                 \n",
      " centralized_model_MaxPool2D  (None, 4, 4, 64)         0         \n",
      " _3 (MaxPooling2D)                                               \n",
      "                                                                 \n",
      " centralized_model_Conv2D_4   (None, 2, 2, 128)        73856     \n",
      " (Conv2D)                                                        \n",
      "                                                                 \n",
      " centralized_model_MaxPool2D  (None, 1, 1, 128)        0         \n",
      " _4 (MaxPooling2D)                                               \n",
      "                                                                 \n",
      " centralized_model_Flatten (  (None, 128)              0         \n",
      " Flatten)                                                        \n",
      "                                                                 \n",
      " centralized_model_Dense_1 (  (None, 128)              16512     \n",
      " Dense)                                                          \n",
      "                                                                 \n",
      " centralized_model_Dense_2 (  (None, 512)              66048     \n",
      " Dense)                                                          \n",
      "                                                                 \n",
      " centralized_model_Output (D  (None, 3)                1539      \n",
      " ense)                                                           \n",
      "                                                                 \n",
      "=================================================================\n",
      "Total params: 181,539\n",
      "Trainable params: 181,539\n",
      "Non-trainable params: 0\n",
      "_________________________________________________________________\n"
     ]
    },
    {
     "name": "stderr",
     "output_type": "stream",
     "text": [
      "2022-12-12 09:24:12.125328: I tensorflow/compiler/xla/stream_executor/cuda/cuda_gpu_executor.cc:981] successful NUMA node read from SysFS had negative value (-1), but there must be at least one NUMA node, so returning NUMA node zero\n",
      "2022-12-12 09:24:12.158715: I tensorflow/compiler/xla/stream_executor/cuda/cuda_gpu_executor.cc:981] successful NUMA node read from SysFS had negative value (-1), but there must be at least one NUMA node, so returning NUMA node zero\n",
      "2022-12-12 09:24:12.159130: I tensorflow/compiler/xla/stream_executor/cuda/cuda_gpu_executor.cc:981] successful NUMA node read from SysFS had negative value (-1), but there must be at least one NUMA node, so returning NUMA node zero\n",
      "2022-12-12 09:24:12.159833: I tensorflow/core/platform/cpu_feature_guard.cc:193] This TensorFlow binary is optimized with oneAPI Deep Neural Network Library (oneDNN) to use the following CPU instructions in performance-critical operations:  AVX2 FMA\n",
      "To enable them in other operations, rebuild TensorFlow with the appropriate compiler flags.\n",
      "2022-12-12 09:24:12.160609: I tensorflow/compiler/xla/stream_executor/cuda/cuda_gpu_executor.cc:981] successful NUMA node read from SysFS had negative value (-1), but there must be at least one NUMA node, so returning NUMA node zero\n",
      "2022-12-12 09:24:12.161028: I tensorflow/compiler/xla/stream_executor/cuda/cuda_gpu_executor.cc:981] successful NUMA node read from SysFS had negative value (-1), but there must be at least one NUMA node, so returning NUMA node zero\n",
      "2022-12-12 09:24:12.161335: I tensorflow/compiler/xla/stream_executor/cuda/cuda_gpu_executor.cc:981] successful NUMA node read from SysFS had negative value (-1), but there must be at least one NUMA node, so returning NUMA node zero\n",
      "2022-12-12 09:24:12.635209: I tensorflow/compiler/xla/stream_executor/cuda/cuda_gpu_executor.cc:981] successful NUMA node read from SysFS had negative value (-1), but there must be at least one NUMA node, so returning NUMA node zero\n",
      "2022-12-12 09:24:12.635460: I tensorflow/compiler/xla/stream_executor/cuda/cuda_gpu_executor.cc:981] successful NUMA node read from SysFS had negative value (-1), but there must be at least one NUMA node, so returning NUMA node zero\n",
      "2022-12-12 09:24:12.635608: I tensorflow/compiler/xla/stream_executor/cuda/cuda_gpu_executor.cc:981] successful NUMA node read from SysFS had negative value (-1), but there must be at least one NUMA node, so returning NUMA node zero\n",
      "2022-12-12 09:24:12.635720: I tensorflow/core/common_runtime/gpu/gpu_device.cc:1613] Created device /job:localhost/replica:0/task:0/device:GPU:0 with 4636 MB memory:  -> device: 0, name: NVIDIA GeForce GTX 1660 Ti with Max-Q Design, pci bus id: 0000:01:00.0, compute capability: 7.5\n"
     ]
    }
   ],
   "source": [
    "centralized_model = create_model('centralized_model')\n",
    "centralized_model.summary()"
   ]
  },
  {
   "cell_type": "code",
   "execution_count": 12,
   "id": "c32687f6",
   "metadata": {},
   "outputs": [],
   "source": [
    "initial_weights = centralized_model.get_weights()"
   ]
  },
  {
   "cell_type": "code",
   "execution_count": 15,
   "id": "bdd373b8",
   "metadata": {},
   "outputs": [],
   "source": [
    "pickle.dump(initial_weights, open('init_weights.pkl', 'wb'))"
   ]
  },
  {
   "cell_type": "code",
   "execution_count": 16,
   "id": "f47df160",
   "metadata": {},
   "outputs": [],
   "source": [
    "train_datagen = ImageDataGenerator(\n",
    "        rescale=1./255,\n",
    "        shear_range=0.2,\n",
    "        zoom_range=0.2,)\n",
    "\n",
    "val_datagen = ImageDataGenerator(\n",
    "        rescale=1./255)\n",
    "\n",
    "test_datagen = ImageDataGenerator(\n",
    "        rescale=1./255)"
   ]
  },
  {
   "cell_type": "code",
   "execution_count": 17,
   "id": "ccbe812c",
   "metadata": {},
   "outputs": [],
   "source": [
    "data_path = '/home/dhianeifar/PycharmProjects/fedLearning/data/CENTRALIZED'"
   ]
  },
  {
   "cell_type": "code",
   "execution_count": 18,
   "id": "f833e95a",
   "metadata": {},
   "outputs": [
    {
     "name": "stdout",
     "output_type": "stream",
     "text": [
      "Found 3825 images belonging to 3 classes.\n",
      "Found 819 images belonging to 3 classes.\n",
      "Found 823 images belonging to 3 classes.\n"
     ]
    }
   ],
   "source": [
    "train_generator = train_datagen.flow_from_directory(\n",
    "    directory=os.path.join(data_path, 'train'),\n",
    "    target_size=(50, 50),\n",
    "    color_mode=\"rgb\",\n",
    "    batch_size=16,\n",
    "    class_mode=\"categorical\",\n",
    ")\n",
    "\n",
    "val_generator = val_datagen.flow_from_directory(\n",
    "    directory=os.path.join(data_path, 'val'),\n",
    "    target_size=(50, 50),\n",
    "    color_mode=\"rgb\",\n",
    "    batch_size=16,\n",
    "    class_mode=\"categorical\",\n",
    ")\n",
    "\n",
    "test_generator = test_datagen.flow_from_directory(\n",
    "    directory=os.path.join(data_path, 'test'),\n",
    "    target_size=(50, 50),\n",
    "    color_mode=\"rgb\",\n",
    "    batch_size=16,\n",
    "    class_mode=\"categorical\",\n",
    ")"
   ]
  },
  {
   "cell_type": "code",
   "execution_count": 19,
   "id": "e48d66c9",
   "metadata": {},
   "outputs": [],
   "source": [
    "centralized_model.compile(loss = 'categorical_crossentropy', optimizer='adam', metrics=['accuracy'])"
   ]
  },
  {
   "cell_type": "code",
   "execution_count": 20,
   "id": "065cf088",
   "metadata": {},
   "outputs": [
    {
     "name": "stdout",
     "output_type": "stream",
     "text": [
      "Epoch 1/20\n"
     ]
    },
    {
     "name": "stderr",
     "output_type": "stream",
     "text": [
      "/tmp/ipykernel_16614/572934064.py:3: UserWarning: `Model.fit_generator` is deprecated and will be removed in a future version. Please use `Model.fit`, which supports generators.\n",
      "  history = centralized_model.fit_generator(generator=train_generator,\n",
      "2022-12-12 09:26:31.007041: I tensorflow/compiler/xla/stream_executor/cuda/cuda_dnn.cc:428] Loaded cuDNN version 8401\n"
     ]
    },
    {
     "name": "stdout",
     "output_type": "stream",
     "text": [
      "239/239 [==============================] - 7s 21ms/step - loss: 1.0343 - accuracy: 0.4434 - val_loss: 0.8594 - val_accuracy: 0.5919\n",
      "Epoch 2/20\n",
      "239/239 [==============================] - 4s 18ms/step - loss: 0.4151 - accuracy: 0.8196 - val_loss: 0.0740 - val_accuracy: 0.9767\n",
      "Epoch 3/20\n",
      "239/239 [==============================] - 5s 19ms/step - loss: 0.0751 - accuracy: 0.9774 - val_loss: 0.0917 - val_accuracy: 0.9632\n",
      "Epoch 4/20\n",
      "239/239 [==============================] - 4s 19ms/step - loss: 0.0483 - accuracy: 0.9840 - val_loss: 0.0125 - val_accuracy: 0.9951\n",
      "Epoch 5/20\n",
      "239/239 [==============================] - 4s 18ms/step - loss: 0.0362 - accuracy: 0.9892 - val_loss: 0.0574 - val_accuracy: 0.9865\n",
      "Epoch 6/20\n",
      "239/239 [==============================] - 5s 20ms/step - loss: 0.0335 - accuracy: 0.9895 - val_loss: 0.0186 - val_accuracy: 0.9939\n",
      "Epoch 7/20\n",
      "239/239 [==============================] - 4s 18ms/step - loss: 0.0318 - accuracy: 0.9900 - val_loss: 0.0126 - val_accuracy: 1.0000\n",
      "Epoch 8/20\n",
      "239/239 [==============================] - 4s 18ms/step - loss: 0.0132 - accuracy: 0.9958 - val_loss: 0.0338 - val_accuracy: 0.9914\n",
      "Epoch 9/20\n",
      "239/239 [==============================] - 4s 18ms/step - loss: 0.0267 - accuracy: 0.9929 - val_loss: 0.0101 - val_accuracy: 0.9975\n",
      "Epoch 10/20\n",
      "239/239 [==============================] - 4s 19ms/step - loss: 0.0087 - accuracy: 0.9968 - val_loss: 0.0094 - val_accuracy: 0.9963\n",
      "Epoch 11/20\n",
      "239/239 [==============================] - 5s 19ms/step - loss: 0.0082 - accuracy: 0.9974 - val_loss: 0.0035 - val_accuracy: 0.9988\n",
      "Epoch 12/20\n",
      "239/239 [==============================] - 5s 20ms/step - loss: 0.0100 - accuracy: 0.9955 - val_loss: 0.0128 - val_accuracy: 0.9963\n",
      "Epoch 13/20\n",
      "239/239 [==============================] - 5s 20ms/step - loss: 0.0206 - accuracy: 0.9932 - val_loss: 0.0144 - val_accuracy: 0.9951\n",
      "Epoch 14/20\n",
      "239/239 [==============================] - 5s 19ms/step - loss: 0.0159 - accuracy: 0.9961 - val_loss: 0.0047 - val_accuracy: 0.9975\n",
      "Epoch 15/20\n",
      "239/239 [==============================] - 5s 19ms/step - loss: 0.0100 - accuracy: 0.9971 - val_loss: 0.0068 - val_accuracy: 0.9988\n",
      "Epoch 16/20\n",
      "239/239 [==============================] - 5s 19ms/step - loss: 0.0181 - accuracy: 0.9947 - val_loss: 0.0022 - val_accuracy: 1.0000\n",
      "Epoch 17/20\n",
      "239/239 [==============================] - 5s 20ms/step - loss: 0.0051 - accuracy: 0.9982 - val_loss: 0.0165 - val_accuracy: 0.9939\n",
      "Epoch 18/20\n",
      "239/239 [==============================] - 5s 19ms/step - loss: 0.0150 - accuracy: 0.9963 - val_loss: 0.0400 - val_accuracy: 0.9865\n",
      "Epoch 19/20\n",
      "239/239 [==============================] - 4s 18ms/step - loss: 0.0017 - accuracy: 0.9995 - val_loss: 0.0020 - val_accuracy: 0.9988\n",
      "Epoch 20/20\n",
      "239/239 [==============================] - 5s 20ms/step - loss: 0.0199 - accuracy: 0.9934 - val_loss: 0.0140 - val_accuracy: 0.9939\n"
     ]
    }
   ],
   "source": [
    "STEP_SIZE_TRAIN = train_generator.n // train_generator.batch_size\n",
    "STEP_SIZE_VALID = val_generator.n // val_generator.batch_size\n",
    "history = centralized_model.fit_generator(generator=train_generator,\n",
    "                    steps_per_epoch=STEP_SIZE_TRAIN,\n",
    "                    validation_data=val_generator,\n",
    "                    validation_steps=STEP_SIZE_VALID,\n",
    "                    epochs=20\n",
    ")"
   ]
  },
  {
   "cell_type": "code",
   "execution_count": 21,
   "id": "9783ad05",
   "metadata": {},
   "outputs": [
    {
     "data": {
      "text/plain": [
       "<matplotlib.legend.Legend at 0x7f547c04dfd0>"
      ]
     },
     "execution_count": 21,
     "metadata": {},
     "output_type": "execute_result"
    },
    {
     "data": {
      "image/png": "[encoded data removed]",
      "text/plain": [
       "<Figure size 1080x360 with 2 Axes>"
      ]
     },
     "metadata": {
      "needs_background": "light"
     },
     "output_type": "display_data"
    }
   ],
   "source": [
    "acc = history.history['accuracy']\n",
    "val_acc = history.history['val_accuracy']\n",
    "loss = history.history['loss']\n",
    "val_loss = history.history['val_loss']\n",
    "\n",
    "epochs = range(len(acc))\n",
    "fig, ax = plt.subplots(ncols=2, figsize=(15, 5))\n",
    "\n",
    "ax[0].plot(epochs, acc, 'r', label='Training accuracy')\n",
    "ax[0].plot(epochs, val_acc, 'b', label='Validation accuracy')\n",
    "ax[0].set_title('Training accuracy')\n",
    "ax[0].legend()\n",
    "\n",
    "ax[1].plot(epochs, loss, 'r', label='Training Loss')\n",
    "ax[1].plot(epochs, val_loss, 'b', label='Validation Loss')\n",
    "ax[1].set_title('validation accuracy')\n",
    "ax[1].legend()"
   ]
  },
  {
   "cell_type": "code",
   "execution_count": 22,
   "id": "98de8a1c",
   "metadata": {},
   "outputs": [
    {
     "name": "stdout",
     "output_type": "stream",
     "text": [
      "52/52 [==============================] - 0s 9ms/step - loss: 0.0081 - accuracy: 0.9976\n"
     ]
    }
   ],
   "source": [
    "results = centralized_model.evaluate(test_generator)"
   ]
  },
  {
   "cell_type": "code",
   "execution_count": 23,
   "id": "83f6211b",
   "metadata": {},
   "outputs": [
    {
     "data": {
      "text/plain": [
       "[0.008054890669882298, 0.9975698590278625]"
      ]
     },
     "execution_count": 23,
     "metadata": {},
     "output_type": "execute_result"
    }
   ],
   "source": [
    "results"
   ]
  },
  {
   "cell_type": "code",
   "execution_count": null,
   "id": "b320755d",
   "metadata": {},
   "outputs": [],
   "source": []
  }
 ],
 "metadata": {
  "kernelspec": {
   "display_name": "federated_learning",
   "language": "python",
   "name": "federated_learning"
  },
  "language_info": {
   "codemirror_mode": {
    "name": "ipython",
    "version": 3
   },
   "file_extension": ".py",
   "mimetype": "text/x-python",
   "name": "python",
   "nbconvert_exporter": "python",
   "pygments_lexer": "ipython3",
   "version": "3.9.15"
  }
 },
 "nbformat": 4,
 "nbformat_minor": 5
}
